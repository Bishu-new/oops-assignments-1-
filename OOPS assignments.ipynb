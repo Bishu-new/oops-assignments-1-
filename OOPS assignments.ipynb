{
 "cells": [
  {
   "cell_type": "markdown",
   "id": "5bd52195-3349-412d-b3e4-b77b260e2060",
   "metadata": {},
   "source": [
    "Ans 1 : Q1, Create a vehicle class with an init method having instance variables as name_of_vehicle, max_speed\n",
    "and average_of_vehicle."
   ]
  },
  {
   "cell_type": "code",
   "execution_count": 8,
   "id": "e03cd7b0-3b75-4ca8-8f4b-0f2070c02200",
   "metadata": {},
   "outputs": [],
   "source": [
    "## creating a class with the instance variacle \n",
    "\n",
    "class vehicle():\n",
    "    \n",
    "    def __init__(self , name_of_vehicle , max_speed , average_of_vehicle):\n",
    "        self.name_of_vehicle = name_of_vehicle\n",
    "        self.max_speed = max_speed\n",
    "        self.average_of_vehicle = average_of_vehicle\n",
    "        \n",
    "        \n",
    "        \n",
    "        def return_vehicle_details():\n",
    "            return self.name_of_vehicle , self.max_speed , self.average_of_vehicle"
   ]
  },
  {
   "cell_type": "code",
   "execution_count": 9,
   "id": "25bb5b26-7c9e-4b6f-b6ac-fc03c73ada1b",
   "metadata": {},
   "outputs": [],
   "source": [
    "## creating an object to and assigning the value to it \n",
    "\n",
    "vehicle_obj = vehicle('Audi' , 300 , 150  )"
   ]
  },
  {
   "cell_type": "code",
   "execution_count": 10,
   "id": "f7dcfade-48b9-48eb-9e66-58038c332a61",
   "metadata": {},
   "outputs": [
    {
     "data": {
      "text/plain": [
       "150"
      ]
     },
     "execution_count": 10,
     "metadata": {},
     "output_type": "execute_result"
    }
   ],
   "source": [
    "vehicle_obj.average_of_vehicle"
   ]
  },
  {
   "cell_type": "code",
   "execution_count": 11,
   "id": "adb2e24a-f86a-4f92-aa85-334fd02bc17e",
   "metadata": {},
   "outputs": [
    {
     "data": {
      "text/plain": [
       "300"
      ]
     },
     "execution_count": 11,
     "metadata": {},
     "output_type": "execute_result"
    }
   ],
   "source": [
    "vehicle_obj.max_speed"
   ]
  },
  {
   "cell_type": "code",
   "execution_count": 12,
   "id": "503e5a82-d393-4020-a901-673c3534b5d0",
   "metadata": {},
   "outputs": [
    {
     "data": {
      "text/plain": [
       "'Audi'"
      ]
     },
     "execution_count": 12,
     "metadata": {},
     "output_type": "execute_result"
    }
   ],
   "source": [
    "vehicle_obj.name_of_vehicle"
   ]
  },
  {
   "cell_type": "markdown",
   "id": "de1b621f-39e9-42d2-b61a-7a881133edd3",
   "metadata": {},
   "source": [
    "Ans 2 : Create a child class car from the vehicle class created in Que 1, which will inherit the vehicle class.\n",
    "Create a method named seating_capacity which takes capacity as an argument and returns the name of\n",
    "the vehicle and its seating capacity."
   ]
  },
  {
   "cell_type": "code",
   "execution_count": 15,
   "id": "950c4b7f-8ba2-492c-996f-c446557fe6a6",
   "metadata": {},
   "outputs": [],
   "source": [
    "## creating a child class and inheritaing the vehicle class:\n",
    "\n",
    "class child_car(vehicle):\n",
    "    \n",
    "    \n",
    "    ## creating a method for seating capicity \n",
    "    def seating_capacity(self , capacity):\n",
    "        return f\"The name of the car {self.name_of_vehicle} with the capacity of {capacity} people\"\n",
    "    "
   ]
  },
  {
   "cell_type": "code",
   "execution_count": 17,
   "id": "9eb16f5f-9298-4af1-a491-3d6baa42180c",
   "metadata": {},
   "outputs": [],
   "source": [
    "my_car = child_car('Audi' , 300 , 150)"
   ]
  },
  {
   "cell_type": "code",
   "execution_count": 20,
   "id": "f38e3a19-3c29-4d39-98a7-fc7a3fd80b65",
   "metadata": {},
   "outputs": [
    {
     "data": {
      "text/plain": [
       "'The name of the car Audi with the capacity of 5 people'"
      ]
     },
     "execution_count": 20,
     "metadata": {},
     "output_type": "execute_result"
    }
   ],
   "source": [
    "## creating an object and passing the arguments to get the desire result \n",
    "my_car.seating_capacity(5)"
   ]
  },
  {
   "cell_type": "markdown",
   "id": "1f4927b7-7c5e-4da8-b9e3-01803f2e169f",
   "metadata": {},
   "source": [
    "Q 3 ::  What is multiple inheritance? Write a python code to demonstrate multiple inheritance."
   ]
  },
  {
   "cell_type": "markdown",
   "id": "73c8d57a-77f4-4a6b-9bb6-66f34cc45b37",
   "metadata": {},
   "source": [
    "Ans 3 . Multiple inheritance is a feature in some object-oriented programming languages, such as Python, where a class can inherit attributes and methods from more than one parent class. This allows for more complex and flexible class hierarchies, but can also introduce complexity and potential conflicts if not used carefully.\n",
    "\n",
    "below is the example of multiple inheritance;"
   ]
  },
  {
   "cell_type": "code",
   "execution_count": 22,
   "id": "09a5daef-8c06-4de1-b73b-465a41a7e5b0",
   "metadata": {},
   "outputs": [],
   "source": [
    "class class1():\n",
    "    \n",
    "    def test1(self):\n",
    "        return \"This is first assignment of python in oops\""
   ]
  },
  {
   "cell_type": "code",
   "execution_count": 23,
   "id": "1bc755e0-3bc2-498e-a570-0e7491e7f9e8",
   "metadata": {},
   "outputs": [],
   "source": [
    "class class2():\n",
    "    \n",
    "    def test2(self):\n",
    "        \n",
    "        return \"I am getting there every day \""
   ]
  },
  {
   "cell_type": "code",
   "execution_count": 25,
   "id": "09541812-4a6c-4887-8393-e0a120090f71",
   "metadata": {},
   "outputs": [],
   "source": [
    "##class 3 is inheriting the data from class  1 and 2 :\n",
    "\n",
    "class class3 (class1, class2):\n",
    "    pass"
   ]
  },
  {
   "cell_type": "code",
   "execution_count": 26,
   "id": "ec6a1093-4c39-48eb-8fb6-6a057a1ddb8e",
   "metadata": {},
   "outputs": [],
   "source": [
    "obj_test3 = class3()"
   ]
  },
  {
   "cell_type": "code",
   "execution_count": 29,
   "id": "92f871aa-786b-418c-a382-e11782e4132a",
   "metadata": {},
   "outputs": [
    {
     "data": {
      "text/plain": [
       "'This is first assignment of python in oops'"
      ]
     },
     "execution_count": 29,
     "metadata": {},
     "output_type": "execute_result"
    }
   ],
   "source": [
    "## calling both the class \n",
    "obj_test3.test1()"
   ]
  },
  {
   "cell_type": "code",
   "execution_count": 30,
   "id": "1621e4f3-eddc-4a09-a67d-26e639213053",
   "metadata": {},
   "outputs": [
    {
     "data": {
      "text/plain": [
       "'I am getting there every day '"
      ]
     },
     "execution_count": 30,
     "metadata": {},
     "output_type": "execute_result"
    }
   ],
   "source": [
    "obj_test3.test2()"
   ]
  },
  {
   "cell_type": "markdown",
   "id": "326496d6-9623-4436-b3d7-7d563b7f6722",
   "metadata": {},
   "source": [
    "Q4. What are getter and setter in python? Create a class and create a getter and a setter method in this\n",
    "class."
   ]
  },
  {
   "cell_type": "markdown",
   "id": "a6d42366-0789-4cd7-81ab-5e6a0bd1c87c",
   "metadata": {},
   "source": [
    "Ans : 4 "
   ]
  },
  {
   "cell_type": "markdown",
   "id": "ade979d4-47b8-44b4-abc9-e3017fc03246",
   "metadata": {},
   "source": [
    "In Python, a getter is a method that gets the value of a property, while a setter is a method that sets the value of a property. These methods are used to control access to an object’s attributes, allowing for validation and other processing to be performed when getting or setting the attribute’s value."
   ]
  },
  {
   "cell_type": "code",
   "execution_count": 78,
   "id": "8c255ea9-053d-4d63-9660-540c1cbe0356",
   "metadata": {},
   "outputs": [],
   "source": [
    "class my_class():\n",
    "    \n",
    "    def __init__(self):\n",
    "        self.__my_property = 0 \n",
    "        \n",
    "##The my_property method is decorated with the @property decorator, \n",
    "##which makes it a getter method for the my_property attribute.\n",
    "\n",
    "    @property\n",
    "    def my_property(self):\n",
    "        print(\"getting the value\")\n",
    "        return self.__my_property \n",
    "    \n",
    " ##The my_property.setter method is decorated with the @my_property.setter       \n",
    "    @my_property.setter\n",
    "    def my_property(self , value):\n",
    "            print(\"setting the value\")\n",
    "            self.__my_property = value "
   ]
  },
  {
   "cell_type": "code",
   "execution_count": 74,
   "id": "9373af30-3e3f-4d20-a22b-46fad03bbc83",
   "metadata": {},
   "outputs": [],
   "source": [
    "obj = my_class()"
   ]
  },
  {
   "cell_type": "code",
   "execution_count": 79,
   "id": "452634be-b3e1-4c0e-9d1f-a4ae54c7cd64",
   "metadata": {},
   "outputs": [
    {
     "name": "stdout",
     "output_type": "stream",
     "text": [
      "setting the value\n"
     ]
    }
   ],
   "source": [
    "##prints setting the value \n",
    "obj.my_property = 42"
   ]
  },
  {
   "cell_type": "code",
   "execution_count": 80,
   "id": "1355d462-9c37-4192-b73f-45d055a60f9e",
   "metadata": {},
   "outputs": [
    {
     "name": "stdout",
     "output_type": "stream",
     "text": [
      "getting the value\n"
     ]
    },
    {
     "data": {
      "text/plain": [
       "42"
      ]
     },
     "execution_count": 80,
     "metadata": {},
     "output_type": "execute_result"
    }
   ],
   "source": [
    "## prints getting the value and 42\n",
    "obj.my_property"
   ]
  },
  {
   "cell_type": "markdown",
   "id": "a3c90c60-ca52-4c32-8dea-fe851bca1baa",
   "metadata": {},
   "source": [
    "Q5: What is method overriding in python? Write a python code to demonstrate method overriding."
   ]
  },
  {
   "cell_type": "markdown",
   "id": "57ea58dd-a7a3-49d7-b9ce-3c027d24a0f3",
   "metadata": {},
   "source": [
    "Ans 5 : Method overriding is a feature in object-oriented programming languages, such as Python, where a subclass can provide a different implementation of a method that is already defined in its superclass. This allows the subclass to inherit the methods and attributes of the superclass, while also being able to customize its behavior by overriding specific methods.\n",
    "\n",
    "Here is an example of method overriding in Python:"
   ]
  },
  {
   "cell_type": "code",
   "execution_count": 81,
   "id": "1702f628-8af6-4b41-929b-7222d40f5e84",
   "metadata": {},
   "outputs": [],
   "source": [
    "class parent():\n",
    "    \n",
    "    def my_method(self):\n",
    "        print(\"parent class\")"
   ]
  },
  {
   "cell_type": "code",
   "execution_count": 82,
   "id": "0bd50b1b-2e6b-45d3-9778-2703d93141d2",
   "metadata": {},
   "outputs": [],
   "source": [
    "class child(parent):\n",
    "    \n",
    "    def my_method1(self):\n",
    "        print(\"This is child method\")"
   ]
  },
  {
   "cell_type": "code",
   "execution_count": 83,
   "id": "11280936-d2a1-4c19-a1ed-7402c1366054",
   "metadata": {},
   "outputs": [],
   "source": [
    "obj = child()"
   ]
  },
  {
   "cell_type": "code",
   "execution_count": 85,
   "id": "d2d90ae5-3b70-4879-9129-ac25c39b45e9",
   "metadata": {},
   "outputs": [
    {
     "name": "stdout",
     "output_type": "stream",
     "text": [
      "This is child method\n"
     ]
    }
   ],
   "source": [
    "## this override the parent class and print child class\n",
    "obj.my_method1()"
   ]
  },
  {
   "cell_type": "code",
   "execution_count": null,
   "id": "32dede20-da44-4d63-b6dd-889e778dc801",
   "metadata": {},
   "outputs": [],
   "source": []
  }
 ],
 "metadata": {
  "kernelspec": {
   "display_name": "Python 3 (ipykernel)",
   "language": "python",
   "name": "python3"
  },
  "language_info": {
   "codemirror_mode": {
    "name": "ipython",
    "version": 3
   },
   "file_extension": ".py",
   "mimetype": "text/x-python",
   "name": "python",
   "nbconvert_exporter": "python",
   "pygments_lexer": "ipython3",
   "version": "3.10.8"
  }
 },
 "nbformat": 4,
 "nbformat_minor": 5
}
